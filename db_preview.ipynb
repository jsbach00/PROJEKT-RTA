{
 "cells": [
  {
   "cell_type": "code",
   "execution_count": 9,
   "id": "755f37db-cbb8-4c9a-a09c-7c87002a1c9a",
   "metadata": {},
   "outputs": [
    {
     "name": "stdout",
     "output_type": "stream",
     "text": [
      "📂 Zawartość bazy danych (air_quality.db):\n",
      "\n",
      "\n",
      "📊 Tabela: PM10\n",
      "   id            timestamp             station_code    value   unit\n",
      "0   1  2023-01-01T01:00:00     MzOtwoBrzozo-PM10-1g  23.8000  µg/m³\n",
      "1   2  2023-01-01T01:00:00   OpKrap3MajaMOB-PM10-1g  33.4514  µg/m³\n",
      "2   3  2023-01-01T01:00:00  WmKetrWojPolMOB-PM10-1g  21.9677  µg/m³\n",
      "3   4  2023-01-01T01:00:00     KpInowSolank-PM10-1g   9.4000  µg/m³\n",
      "4   5  2023-01-01T01:00:00     LdPioTrKraPr-PM10-1g  33.6300  µg/m³\n",
      "\n",
      "📊 Tabela: sqlite_sequence\n",
      "   name  seq\n",
      "0  PM10  825\n",
      "1    O3  486\n",
      "2   NO2  618\n",
      "3   SO2  417\n",
      "4  PM25  426\n",
      "\n",
      "📊 Tabela: O3\n",
      "   id            timestamp           station_code    value   unit\n",
      "0   1  2023-01-01T01:00:00     LdPioTrKraPr-O3-1g  37.8000  µg/m³\n",
      "1   2  2023-01-01T01:00:00     LuWsKaziWiel-O3-1g  38.2333  µg/m³\n",
      "2   3  2023-01-01T01:00:00  SkWloszKilinMOB-O3-1g  43.8000  µg/m³\n",
      "3   4  2023-01-01T01:00:00     MzBelsIGFPAN-O3-1g  42.4630  µg/m³\n",
      "4   5  2023-01-01T01:00:00     WmPuszczaBor-O3-1g  34.3389  µg/m³\n",
      "\n",
      "📊 Tabela: NO2\n",
      "   id            timestamp         station_code     value   unit\n",
      "0   1  2023-01-01T01:00:00  DsWrocWybCon-NO2-1g  15.86480  µg/m³\n",
      "1   2  2023-01-01T01:00:00  SlZywieKoper-NO2-1g   5.82841  µg/m³\n",
      "2   3  2023-01-01T01:00:00  PdBialAlPils-NO2-1g  10.00000  µg/m³\n",
      "3   4  2023-01-01T01:00:00  PmGdaWyzwole-NO2-1g   7.99898  µg/m³\n",
      "4   5  2023-01-01T01:00:00  MzGutyDuCzer-NO2-1g   2.80000  µg/m³\n",
      "\n",
      "📊 Tabela: SO2\n",
      "   id            timestamp            station_code    value   unit\n",
      "0   1  2023-01-01T01:00:00     WpKozieosLes-SO2-1g  3.62226  µg/m³\n",
      "1   2  2023-01-01T01:00:00     LbBiaPodOrze-SO2-1g  8.40000  µg/m³\n",
      "2   3  2023-01-01T01:00:00  MzBialaKmiciMOB-SO2-1g  4.70000  µg/m³\n",
      "3   4  2023-01-01T01:00:00     PdBialPPiech-SO2-1g  1.00000  µg/m³\n",
      "4   5  2023-01-01T01:00:00     SlRybniBorki-SO2-1g  8.48895  µg/m³\n",
      "\n",
      "📊 Tabela: PM25\n",
      "   id            timestamp              station_code    value   unit\n",
      "0   1  2023-01-01T01:00:00  LdLaskNarutoMOB-PM2.5-1g   9.8000  µg/m³\n",
      "1   2  2023-01-01T01:00:00     PkKrosKletow-PM2.5-1g  11.5000  µg/m³\n",
      "2   3  2023-01-01T01:00:00  LdKutn1Maja7MOB-PM2.5-1g  14.0000  µg/m³\n",
      "3   4  2023-01-01T01:00:00     WpKaliSawick-PM2.5-1g  30.5162  µg/m³\n",
      "4   5  2023-01-01T01:00:00     LdRadomsRoln-PM2.5-1g  17.0000  µg/m³\n"
     ]
    }
   ],
   "source": [
    "import sqlite3\n",
    "import pandas as pd\n",
    "from pathlib import Path\n",
    "\n",
    "# Ścieżka do bazy danych\n",
    "DB_PATH = Path(\"air_quality.db\")\n",
    "\n",
    "# Połączenie z bazą danych\n",
    "conn = sqlite3.connect(DB_PATH)\n",
    "cursor = conn.cursor()\n",
    "\n",
    "# Pobierz wszystkie tabele w bazie\n",
    "cursor.execute(\"SELECT name FROM sqlite_master WHERE type='table';\")\n",
    "tables = cursor.fetchall()\n",
    "\n",
    "print(f\"📂 Zawartość bazy danych ({DB_PATH}):\\n\")\n",
    "\n",
    "if not tables:\n",
    "    print(\"❌ Brak tabel w bazie.\")\n",
    "else:\n",
    "    for (table_name,) in tables:\n",
    "        print(f\"\\n📊 Tabela: {table_name}\")\n",
    "        try:\n",
    "            df = pd.read_sql_query(f\"SELECT * FROM {table_name} LIMIT 5;\", conn)\n",
    "            print(df)\n",
    "        except Exception as e:\n",
    "            print(f\"⚠️ Błąd przy odczycie tabeli {table_name}: {e}\")\n",
    "\n",
    "# Zamknięcie połączenia\n",
    "conn.close()\n"
   ]
  },
  {
   "cell_type": "code",
   "execution_count": null,
   "id": "10eb5889-ab17-4b7c-aace-dbb6e382f540",
   "metadata": {},
   "outputs": [],
   "source": []
  },
  {
   "cell_type": "code",
   "execution_count": null,
   "id": "76d8deb3-8073-4ed7-a51f-f336f7a1f5d4",
   "metadata": {},
   "outputs": [],
   "source": []
  }
 ],
 "metadata": {
  "kernelspec": {
   "display_name": "Python 3 (ipykernel)",
   "language": "python",
   "name": "python3"
  },
  "language_info": {
   "codemirror_mode": {
    "name": "ipython",
    "version": 3
   },
   "file_extension": ".py",
   "mimetype": "text/x-python",
   "name": "python",
   "nbconvert_exporter": "python",
   "pygments_lexer": "ipython3",
   "version": "3.11.6"
  }
 },
 "nbformat": 4,
 "nbformat_minor": 5
}
